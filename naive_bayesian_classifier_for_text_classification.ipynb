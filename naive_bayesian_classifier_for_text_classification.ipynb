{
  "nbformat": 4,
  "nbformat_minor": 0,
  "metadata": {
    "colab": {
      "provenance": [],
      "authorship_tag": "ABX9TyMvgXdCAwMUenS7Ana780j5",
      "include_colab_link": true
    },
    "kernelspec": {
      "name": "python3",
      "display_name": "Python 3"
    },
    "language_info": {
      "name": "python"
    }
  },
  "cells": [
    {
      "cell_type": "markdown",
      "metadata": {
        "id": "view-in-github",
        "colab_type": "text"
      },
      "source": [
        "<a href=\"https://colab.research.google.com/github/HEMANTHKUMAR-K-S/Machine-Learning-Programs/blob/main/naive_bayesian_classifier_for_text_classification.ipynb\" target=\"_parent\"><img src=\"https://colab.research.google.com/assets/colab-badge.svg\" alt=\"Open In Colab\"/></a>"
      ]
    },
    {
      "cell_type": "code",
      "source": [
        "import pandas as pd\n",
        "\n",
        "# Define the data\n",
        "data = [\n",
        "    [\"I love this sandwich\", \"pos\"],\n",
        "    [\"This is an amazing place\", \"pos\"],\n",
        "    [\"I feel very good about these beers\", \"pos\"],\n",
        "    [\"This is my best work\", \"pos\"],\n",
        "    [\"What an awesome view\", \"pos\"],\n",
        "    [\"I do not like this restaurant\", \"neg\"],\n",
        "    [\"I am tired of this stuff\", \"neg\"],\n",
        "    [\"I can't deal with this\", \"neg\"],\n",
        "    [\"He is my sworn enemy\", \"neg\"],\n",
        "    [\"My boss is horrible\", \"neg\"]\n",
        "]\n",
        "\n",
        "# Create a DataFrame\n",
        "df = pd.DataFrame(data, columns=[\"message\", \"label\"])\n",
        "\n",
        "# Save to CSV\n",
        "df.to_csv(\"naivetext1.csv\", index=False, header=False)\n",
        "\n",
        "print(\"CSV file 'naivetext1.csv' created successfully.\")\n"
      ],
      "metadata": {
        "colab": {
          "base_uri": "https://localhost:8080/"
        },
        "id": "r48H_lOh-76j",
        "outputId": "72ade547-6a22-4645-ae04-65bed794977e"
      },
      "execution_count": 2,
      "outputs": [
        {
          "output_type": "stream",
          "name": "stdout",
          "text": [
            "CSV file 'naivetext1.csv' created successfully.\n"
          ]
        }
      ]
    },
    {
      "cell_type": "code",
      "source": [
        "#naive bayesian Program:\n",
        "import pandas as pd\n",
        "from sklearn.model_selection import train_test_split\n",
        "from sklearn.feature_extraction.text import CountVectorizer\n",
        "from sklearn.naive_bayes import MultinomialNB\n",
        "from sklearn import metrics\n",
        "\n",
        "# Load dataset\n",
        "msg = pd.read_csv('naivetext1.csv', names=['message', 'label'])\n",
        "print('The dimensions of the dataset:', msg.shape)\n",
        "\n",
        "# Map labels to numeric values\n",
        "msg['labelnum'] = msg.label.map({'pos': 1, 'neg': 0})\n",
        "X = msg.message\n",
        "y = msg.labelnum\n",
        "\n",
        "# Split the dataset\n",
        "xtrain, xtest, ytrain, ytest = train_test_split(X, y, random_state=1)\n",
        "print(\"Train and test shapes:\")\n",
        "print(\"xtrain:\", xtrain.shape)\n",
        "print(\"xtest:\", xtest.shape)\n",
        "print(\"ytrain:\", ytrain.shape)\n",
        "print(\"ytest:\", ytest.shape)\n",
        "\n",
        "# Vectorize the text data\n",
        "count_vect = CountVectorizer()\n",
        "xtrain_dtm = count_vect.fit_transform(xtrain)\n",
        "xtest_dtm = count_vect.transform(xtest)\n",
        "\n",
        "# Optional: View features and transformed data\n",
        "df = pd.DataFrame(xtrain_dtm.toarray(), columns=count_vect.get_feature_names_out())\n",
        "print(\"\\nFeature names:\\n\", count_vect.get_feature_names_out())\n",
        "print(\"\\nTabular representation of training data:\\n\", df)\n",
        "print(\"\\nSparse matrix representation:\\n\", xtrain_dtm)\n",
        "\n",
        "# Train the Naive Bayes classifier\n",
        "clf = MultinomialNB().fit(xtrain_dtm, ytrain)\n",
        "\n",
        "# Make predictions\n",
        "predicted = clf.predict(xtest_dtm)\n",
        "\n",
        "# Accuracy metrics\n",
        "print(\"\\n--- Accuracy Metrics ---\")\n",
        "print(\"Accuracy:\", metrics.accuracy_score(ytest, predicted))\n",
        "print(\"Confusion Matrix:\\n\", metrics.confusion_matrix(ytest, predicted))\n",
        "print(\"Recall:\", metrics.recall_score(ytest, predicted))\n",
        "print(\"Precision:\", metrics.precision_score(ytest, predicted))\n"
      ],
      "metadata": {
        "id": "CXgAWSb1-9_z",
        "colab": {
          "base_uri": "https://localhost:8080/"
        },
        "outputId": "3f00936e-d0c1-4ca5-89a1-4094ff755b4b"
      },
      "execution_count": 3,
      "outputs": [
        {
          "output_type": "stream",
          "name": "stdout",
          "text": [
            "The dimensions of the dataset: (10, 2)\n",
            "Train and test shapes:\n",
            "xtrain: (7,)\n",
            "xtest: (3,)\n",
            "ytrain: (7,)\n",
            "ytest: (3,)\n",
            "\n",
            "Feature names:\n",
            " ['amazing' 'an' 'awesome' 'best' 'can' 'deal' 'do' 'enemy' 'he' 'is'\n",
            " 'like' 'love' 'my' 'not' 'place' 'restaurant' 'sandwich' 'sworn' 'this'\n",
            " 'view' 'what' 'with' 'work']\n",
            "\n",
            "Tabular representation of training data:\n",
            "    amazing  an  awesome  best  can  deal  do  enemy  he  is  ...  not  place  \\\n",
            "0        0   1        1     0    0     0   0      0   0   0  ...    0      0   \n",
            "1        0   0        0     0    0     0   0      0   0   0  ...    0      0   \n",
            "2        0   0        0     1    0     0   0      0   0   1  ...    0      0   \n",
            "3        1   1        0     0    0     0   0      0   0   1  ...    0      1   \n",
            "4        0   0        0     0    1     1   0      0   0   0  ...    0      0   \n",
            "5        0   0        0     0    0     0   0      1   1   1  ...    0      0   \n",
            "6        0   0        0     0    0     0   1      0   0   0  ...    1      0   \n",
            "\n",
            "   restaurant  sandwich  sworn  this  view  what  with  work  \n",
            "0           0         0      0     0     1     1     0     0  \n",
            "1           0         1      0     1     0     0     0     0  \n",
            "2           0         0      0     1     0     0     0     1  \n",
            "3           0         0      0     1     0     0     0     0  \n",
            "4           0         0      0     1     0     0     1     0  \n",
            "5           0         0      1     0     0     0     0     0  \n",
            "6           1         0      0     1     0     0     0     0  \n",
            "\n",
            "[7 rows x 23 columns]\n",
            "\n",
            "Sparse matrix representation:\n",
            " <Compressed Sparse Row sparse matrix of dtype 'int64'\n",
            "\twith 31 stored elements and shape (7, 23)>\n",
            "  Coords\tValues\n",
            "  (0, 20)\t1\n",
            "  (0, 1)\t1\n",
            "  (0, 2)\t1\n",
            "  (0, 19)\t1\n",
            "  (1, 11)\t1\n",
            "  (1, 18)\t1\n",
            "  (1, 16)\t1\n",
            "  (2, 18)\t1\n",
            "  (2, 9)\t1\n",
            "  (2, 12)\t1\n",
            "  (2, 3)\t1\n",
            "  (2, 22)\t1\n",
            "  (3, 1)\t1\n",
            "  (3, 18)\t1\n",
            "  (3, 9)\t1\n",
            "  (3, 0)\t1\n",
            "  (3, 14)\t1\n",
            "  (4, 18)\t1\n",
            "  (4, 4)\t1\n",
            "  (4, 5)\t1\n",
            "  (4, 21)\t1\n",
            "  (5, 9)\t1\n",
            "  (5, 12)\t1\n",
            "  (5, 8)\t1\n",
            "  (5, 17)\t1\n",
            "  (5, 7)\t1\n",
            "  (6, 18)\t1\n",
            "  (6, 6)\t1\n",
            "  (6, 13)\t1\n",
            "  (6, 10)\t1\n",
            "  (6, 15)\t1\n",
            "\n",
            "--- Accuracy Metrics ---\n",
            "Accuracy: 0.3333333333333333\n",
            "Confusion Matrix:\n",
            " [[0 2]\n",
            " [0 1]]\n",
            "Recall: 1.0\n",
            "Precision: 0.3333333333333333\n"
          ]
        }
      ]
    },
    {
      "cell_type": "code",
      "source": [],
      "metadata": {
        "id": "YE-GPTWK_IjB"
      },
      "execution_count": null,
      "outputs": []
    }
  ]
}